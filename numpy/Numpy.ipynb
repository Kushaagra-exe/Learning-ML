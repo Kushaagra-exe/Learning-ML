{
 "cells": [
  {
   "cell_type": "markdown",
   "id": "c20d905e",
   "metadata": {},
   "source": [
    "# Methods to create arrays"
   ]
  },
  {
   "cell_type": "markdown",
   "id": "3fc4c8c3",
   "metadata": {},
   "source": [
    "**.array()\n",
    " .ones()\n",
    " .zeros()\n",
    " .full()\n",
    " .empty()**\n"
   ]
  },
  {
   "cell_type": "code",
   "execution_count": 2,
   "id": "98da288c",
   "metadata": {},
   "outputs": [],
   "source": [
    "import numpy as np"
   ]
  },
  {
   "cell_type": "code",
   "execution_count": 7,
   "id": "af61bd19",
   "metadata": {},
   "outputs": [
    {
     "name": "stdout",
     "output_type": "stream",
     "text": [
      "[1 2 3]\n",
      "<class 'numpy.ndarray'>\n"
     ]
    }
   ],
   "source": [
    "a = [1,2,3]\n",
    "b=np.array(a)\n",
    "print(b)\n",
    "print(type(b))"
   ]
  },
  {
   "cell_type": "code",
   "execution_count": 8,
   "id": "bcbbe650",
   "metadata": {},
   "outputs": [
    {
     "name": "stdout",
     "output_type": "stream",
     "text": [
      "['1' '2' '3' 'a' '5']\n"
     ]
    }
   ],
   "source": [
    "a = [1,2,3, 'a', '5']\n",
    "b=np.array(a)\n",
    "print(b)"
   ]
  },
  {
   "cell_type": "code",
   "execution_count": 13,
   "id": "20d61e9d",
   "metadata": {},
   "outputs": [
    {
     "name": "stdout",
     "output_type": "stream",
     "text": [
      "[1 2 3 6 5]\n",
      "['1' '2' '3' '6.8' '5']\n"
     ]
    }
   ],
   "source": [
    "a = [1,2,3, 6.8, '5']\n",
    "b=np.array(a, dtype=int)\n",
    "c=np.array(a, dtype=str)\n",
    "\n",
    "print(b)\n",
    "print(c)"
   ]
  },
  {
   "cell_type": "code",
   "execution_count": 14,
   "id": "6d42a721",
   "metadata": {},
   "outputs": [
    {
     "name": "stdout",
     "output_type": "stream",
     "text": [
      "[1 2 3 1 2 3 1 2 3]\n"
     ]
    }
   ],
   "source": [
    "a = [1,2,3]\n",
    "b=np.array(a *3)\n",
    "print(b)"
   ]
  },
  {
   "cell_type": "code",
   "execution_count": 33,
   "id": "a80eae50",
   "metadata": {},
   "outputs": [
    {
     "name": "stdout",
     "output_type": "stream",
     "text": [
      "[1. 1. 1. 1. 1.]\n",
      "[1 1 1 1 1]\n",
      "[0. 0. 0. 0. 0.]\n",
      "[0 0 0 0 0]\n"
     ]
    }
   ],
   "source": [
    "one = np.ones(5)\n",
    "print(one)\n",
    "one = np.ones(5, dtype=int)\n",
    "print(one)\n",
    "\n",
    "\n",
    "zero = np.zeros(5)\n",
    "print(zero)\n",
    "zero = np.zeros(5, dtype=int)\n",
    "print(zero)"
   ]
  },
  {
   "cell_type": "code",
   "execution_count": 32,
   "id": "8293aea7",
   "metadata": {},
   "outputs": [
    {
     "name": "stdout",
     "output_type": "stream",
     "text": [
      "[[1 1 1]\n",
      " [1 1 1]]\n"
     ]
    }
   ],
   "source": [
    "one = np.ones((2,3), dtype = int)\n",
    "print(one)"
   ]
  },
  {
   "cell_type": "code",
   "execution_count": 38,
   "id": "d9a9846d",
   "metadata": {},
   "outputs": [
    {
     "name": "stdout",
     "output_type": "stream",
     "text": [
      "[3 3 3 3 3]\n",
      "[3. 3. 3. 3. 3.]\n"
     ]
    }
   ],
   "source": [
    "print(np.full(5,3))\n",
    "print(np.full(5,3, dtype=float))\n",
    "\n",
    "print()"
   ]
  },
  {
   "cell_type": "code",
   "execution_count": 3,
   "id": "1eacfab7",
   "metadata": {},
   "outputs": [
    {
     "data": {
      "text/plain": [
       "array([[2.12199579e-314, 4.67296746e-307],\n",
       "       [5.37543423e-321, 3.79442416e-321]])"
      ]
     },
     "execution_count": 3,
     "metadata": {},
     "output_type": "execute_result"
    }
   ],
   "source": [
    "np.empty([2, 2])"
   ]
  },
  {
   "cell_type": "markdown",
   "id": "9e574989",
   "metadata": {},
   "source": [
    "# Assignment"
   ]
  },
  {
   "cell_type": "code",
   "execution_count": 6,
   "id": "460e920a",
   "metadata": {},
   "outputs": [
    {
     "name": "stdout",
     "output_type": "stream",
     "text": [
      "<class 'numpy.ndarray'>\n"
     ]
    }
   ],
   "source": [
    "a = np.array([[1,2,3],[4,5,6],[7,8,9]])\n",
    "print(type(a))"
   ]
  },
  {
   "cell_type": "code",
   "execution_count": 12,
   "id": "e09ce046",
   "metadata": {},
   "outputs": [
    {
     "name": "stdout",
     "output_type": "stream",
     "text": [
      "[0 0 0 0 1 0 0 0 0 0]\n"
     ]
    }
   ],
   "source": [
    "a = np.zeros(10, dtype=int)\n",
    "a[4]=1\n",
    "print(a)"
   ]
  },
  {
   "cell_type": "markdown",
   "id": "a4512ddc",
   "metadata": {},
   "source": [
    "# ---------------------------"
   ]
  },
  {
   "cell_type": "markdown",
   "id": "5e596d27",
   "metadata": {},
   "source": [
    "# More methods to create arrays "
   ]
  },
  {
   "cell_type": "markdown",
   "id": "d86aa012",
   "metadata": {},
   "source": [
    "**.arange(start, stop , step)** *start is optional {like range function}*\n",
    "\n",
    "**.linspace(start, stop , num_of_samples)** *get samples*\n",
    "\n",
    "**.identity(size)** *identity matrix(NxX)*\n",
    "\n",
    "**.eye(size(n,m))** *identity matrix(NxM)*\n",
    "\n",
    "**.random.rand(size)** *random values b/w(0-1)*"
   ]
  },
  {
   "cell_type": "code",
   "execution_count": 17,
   "id": "2ae1ed6b",
   "metadata": {},
   "outputs": [
    {
     "data": {
      "text/plain": [
       "array([0, 1, 2, 3, 4, 5, 6, 7, 8, 9])"
      ]
     },
     "execution_count": 17,
     "metadata": {},
     "output_type": "execute_result"
    }
   ],
   "source": [
    "a = np.arange(10)\n",
    "a"
   ]
  },
  {
   "cell_type": "code",
   "execution_count": 19,
   "id": "0fc6b1ed",
   "metadata": {},
   "outputs": [
    {
     "data": {
      "text/plain": [
       "array([5, 6, 7, 8, 9])"
      ]
     },
     "execution_count": 19,
     "metadata": {},
     "output_type": "execute_result"
    }
   ],
   "source": [
    "a = np.arange(5,10)\n",
    "a\n"
   ]
  },
  {
   "cell_type": "code",
   "execution_count": 20,
   "id": "e3c9f884",
   "metadata": {},
   "outputs": [
    {
     "data": {
      "text/plain": [
       "array([2, 4, 6, 8])"
      ]
     },
     "execution_count": 20,
     "metadata": {},
     "output_type": "execute_result"
    }
   ],
   "source": [
    "a = np.arange(2,10,2)\n",
    "a"
   ]
  },
  {
   "cell_type": "code",
   "execution_count": 21,
   "id": "ed664168",
   "metadata": {},
   "outputs": [
    {
     "data": {
      "text/plain": [
       "array([ 2.        ,  2.16326531,  2.32653061,  2.48979592,  2.65306122,\n",
       "        2.81632653,  2.97959184,  3.14285714,  3.30612245,  3.46938776,\n",
       "        3.63265306,  3.79591837,  3.95918367,  4.12244898,  4.28571429,\n",
       "        4.44897959,  4.6122449 ,  4.7755102 ,  4.93877551,  5.10204082,\n",
       "        5.26530612,  5.42857143,  5.59183673,  5.75510204,  5.91836735,\n",
       "        6.08163265,  6.24489796,  6.40816327,  6.57142857,  6.73469388,\n",
       "        6.89795918,  7.06122449,  7.2244898 ,  7.3877551 ,  7.55102041,\n",
       "        7.71428571,  7.87755102,  8.04081633,  8.20408163,  8.36734694,\n",
       "        8.53061224,  8.69387755,  8.85714286,  9.02040816,  9.18367347,\n",
       "        9.34693878,  9.51020408,  9.67346939,  9.83673469, 10.        ])"
      ]
     },
     "execution_count": 21,
     "metadata": {},
     "output_type": "execute_result"
    }
   ],
   "source": [
    "a = np.linspace(2,10)\n",
    "a"
   ]
  },
  {
   "cell_type": "code",
   "execution_count": 22,
   "id": "3f999b24",
   "metadata": {},
   "outputs": [
    {
     "data": {
      "text/plain": [
       "array([ 2.,  4.,  6.,  8., 10.])"
      ]
     },
     "execution_count": 22,
     "metadata": {},
     "output_type": "execute_result"
    }
   ],
   "source": [
    "a = np.linspace(2,10,5)\n",
    "a"
   ]
  },
  {
   "cell_type": "code",
   "execution_count": 23,
   "id": "8641e8d5",
   "metadata": {},
   "outputs": [
    {
     "data": {
      "text/plain": [
       "array([[1., 0., 0.],\n",
       "       [0., 1., 0.],\n",
       "       [0., 0., 1.]])"
      ]
     },
     "execution_count": 23,
     "metadata": {},
     "output_type": "execute_result"
    }
   ],
   "source": [
    "np.identity(3)"
   ]
  },
  {
   "cell_type": "code",
   "execution_count": 25,
   "id": "e0c194e0",
   "metadata": {},
   "outputs": [
    {
     "data": {
      "text/plain": [
       "array([[1., 0., 0., 0.],\n",
       "       [0., 1., 0., 0.],\n",
       "       [0., 0., 1., 0.]])"
      ]
     },
     "execution_count": 25,
     "metadata": {},
     "output_type": "execute_result"
    }
   ],
   "source": [
    "np.eye(3,4)"
   ]
  },
  {
   "cell_type": "code",
   "execution_count": 26,
   "id": "3ab52dc0",
   "metadata": {},
   "outputs": [
    {
     "data": {
      "text/plain": [
       "array([0.77628742, 0.5189159 , 0.1522808 ])"
      ]
     },
     "execution_count": 26,
     "metadata": {},
     "output_type": "execute_result"
    }
   ],
   "source": [
    "np.random.rand(3)"
   ]
  },
  {
   "cell_type": "code",
   "execution_count": 27,
   "id": "31f85298",
   "metadata": {},
   "outputs": [
    {
     "data": {
      "text/plain": [
       "array([[0.67748291, 0.92835466, 0.75720146],\n",
       "       [0.47767632, 0.25310337, 0.65226673]])"
      ]
     },
     "execution_count": 27,
     "metadata": {},
     "output_type": "execute_result"
    }
   ],
   "source": [
    "np.random.rand(2,3)"
   ]
  },
  {
   "cell_type": "code",
   "execution_count": 28,
   "id": "4ecfc911",
   "metadata": {},
   "outputs": [
    {
     "data": {
      "text/plain": [
       "array([6.4455874 , 6.99443871, 7.88165197, 4.03702966, 9.23868998,\n",
       "       4.4643208 , 3.33813755, 8.10474646, 3.49424549, 3.10742284])"
      ]
     },
     "execution_count": 28,
     "metadata": {},
     "output_type": "execute_result"
    }
   ],
   "source": [
    "np.random.rand(10)*10"
   ]
  },
  {
   "cell_type": "code",
   "execution_count": 33,
   "id": "d7da0570",
   "metadata": {},
   "outputs": [
    {
     "name": "stdout",
     "output_type": "stream",
     "text": [
      "8\n",
      "16\n",
      "[14 19 12 12 14]\n"
     ]
    }
   ],
   "source": [
    "a = np.random.randint(10)\n",
    "print(a)\n",
    "b = np.random.randint(10,20)\n",
    "print(b)\n",
    "c = np.random.randint(10,20,5)\n",
    "print(c)"
   ]
  },
  {
   "cell_type": "code",
   "execution_count": 3,
   "id": "c5daff53",
   "metadata": {},
   "outputs": [
    {
     "name": "stdout",
     "output_type": "stream",
     "text": [
      "(2, 4)\n"
     ]
    }
   ],
   "source": [
    "arr = np.array([[1, 2, 3, 4], [5, 6, 7, 8]])\n",
    "\n",
    "print(arr.shape)"
   ]
  },
  {
   "cell_type": "markdown",
   "id": "3b54512d",
   "metadata": {},
   "source": [
    "# assignment\n"
   ]
  },
  {
   "cell_type": "code",
   "execution_count": 9,
   "id": "a25e71e0",
   "metadata": {},
   "outputs": [
    {
     "data": {
      "text/plain": [
       "array([ 9, 10, 11, 12, 13, 14, 15, 16, 17, 18, 19, 20, 21, 22, 23, 24, 25,\n",
       "       26, 27, 28, 29, 30, 31, 32, 33, 34, 35, 36, 37, 38, 39, 40, 41, 42,\n",
       "       43, 44, 45, 46, 47, 48, 49])"
      ]
     },
     "execution_count": 9,
     "metadata": {},
     "output_type": "execute_result"
    }
   ],
   "source": [
    "np.arange(9,50)"
   ]
  },
  {
   "cell_type": "code",
   "execution_count": 10,
   "id": "b4106811",
   "metadata": {},
   "outputs": [
    {
     "data": {
      "text/plain": [
       "array([[1., 0., 0., 0., 0., 0.],\n",
       "       [0., 1., 0., 0., 0., 0.],\n",
       "       [0., 0., 1., 0., 0., 0.],\n",
       "       [0., 0., 0., 1., 0., 0.],\n",
       "       [0., 0., 0., 0., 1., 0.]])"
      ]
     },
     "execution_count": 10,
     "metadata": {},
     "output_type": "execute_result"
    }
   ],
   "source": [
    "np.eye(5,6)"
   ]
  },
  {
   "cell_type": "code",
   "execution_count": 12,
   "id": "08514d64",
   "metadata": {},
   "outputs": [
    {
     "data": {
      "text/plain": [
       "array([0.   , 0.625, 1.25 , 1.875, 2.5  , 3.125, 3.75 , 4.375, 5.   ])"
      ]
     },
     "execution_count": 12,
     "metadata": {},
     "output_type": "execute_result"
    }
   ],
   "source": [
    "np.linspace(0,5,9)"
   ]
  },
  {
   "cell_type": "markdown",
   "id": "f0a7aeab",
   "metadata": {},
   "source": [
    "# ---------------------------"
   ]
  },
  {
   "cell_type": "markdown",
   "id": "230afa17",
   "metadata": {},
   "source": [
    "# Indexing and Slicing of Arrays"
   ]
  },
  {
   "cell_type": "markdown",
   "id": "f7685612",
   "metadata": {},
   "source": [
    "Properties of arrays\n",
    "\n",
    "collection of pointers which point to 4 diff attriutes\n",
    "\n",
    "1. **Data**     *Refers to first byte of this array* \n",
    "2. **Shape**    *size of arrays*\n",
    "3. **Dtype**    *data type of the array*\n",
    "4. **Stride**   *num of bytes to be skipped to get to this array*"
   ]
  },
  {
   "cell_type": "code",
   "execution_count": 21,
   "id": "f9ec112a",
   "metadata": {},
   "outputs": [
    {
     "name": "stdout",
     "output_type": "stream",
     "text": [
      "[1, 2, 3, 4, 5]\n",
      "[1 2 3 4 5]\n"
     ]
    }
   ],
   "source": [
    "a = [1,2,3,4,5]\n",
    "arr = np.array(a)\n",
    "\n",
    "print(a)\n",
    "print(arr)"
   ]
  },
  {
   "cell_type": "code",
   "execution_count": 22,
   "id": "1d28e2e3",
   "metadata": {},
   "outputs": [
    {
     "name": "stdout",
     "output_type": "stream",
     "text": [
      "<memory at 0x000001BDA12C5840>\n",
      "(5,)\n",
      "int32\n",
      "(4,)\n"
     ]
    }
   ],
   "source": [
    "print(arr.data)\n",
    "print(arr.shape)\n",
    "print(arr.dtype)\n",
    "print(arr.strides)\n"
   ]
  },
  {
   "cell_type": "code",
   "execution_count": 23,
   "id": "900ee805",
   "metadata": {},
   "outputs": [
    {
     "name": "stdout",
     "output_type": "stream",
     "text": [
      "[[1, 2, 3, 4, 5], [1, 2, 3, 4, 5]]\n",
      "[[1 2 3 4 5]\n",
      " [1 2 3 4 5]]\n"
     ]
    }
   ],
   "source": [
    "a2 = [[1,2,3,4,5],[6,7,8,9,10]]\n",
    "arr2 = np.array(a2)\n",
    "\n",
    "print(a2)\n",
    "print(arr2)"
   ]
  },
  {
   "cell_type": "code",
   "execution_count": 24,
   "id": "e99afb7a",
   "metadata": {},
   "outputs": [
    {
     "name": "stdout",
     "output_type": "stream",
     "text": [
      "<memory at 0x000001BDA1300930>\n",
      "(2, 5)\n",
      "int32\n",
      "(20, 4)\n"
     ]
    }
   ],
   "source": [
    "print(arr2.data)\n",
    "print(arr2.shape)\n",
    "print(arr2.dtype)\n",
    "print(arr2.strides)"
   ]
  },
  {
   "cell_type": "code",
   "execution_count": 32,
   "id": "330ea68e",
   "metadata": {},
   "outputs": [
    {
     "name": "stdout",
     "output_type": "stream",
     "text": [
      "[2, 3, 4]\n",
      "[2 3 4]\n",
      "5\n",
      "5\n",
      "5\n"
     ]
    }
   ],
   "source": [
    "# indexing and slicing\n",
    "\n",
    "print(a[1:4])\n",
    "print(arr[1:4])\n",
    "\n",
    "\n",
    "print(a2[1][4])\n",
    "print(arr2[1][4])\n",
    "print(arr2[1,4])"
   ]
  },
  {
   "cell_type": "code",
   "execution_count": 42,
   "id": "f921de07",
   "metadata": {},
   "outputs": [
    {
     "name": "stdout",
     "output_type": "stream",
     "text": [
      "[1, 2, 3]\n",
      "[1 2 3]\n",
      "[3 3]\n"
     ]
    }
   ],
   "source": [
    "print(a2[1][:3])\n",
    "print(arr2[1,:3])\n",
    "print(arr2[:2,2])"
   ]
  },
  {
   "cell_type": "markdown",
   "id": "e262be4f",
   "metadata": {},
   "source": [
    "# Assignment"
   ]
  },
  {
   "cell_type": "code",
   "execution_count": 60,
   "id": "36b77952",
   "metadata": {},
   "outputs": [
    {
     "name": "stdout",
     "output_type": "stream",
     "text": [
      "[[ 1  2  3  4  5]\n",
      " [ 6  7  8  9 10]\n",
      " [11 12 13 14 15]\n",
      " [16 17 18 19 20]]\n"
     ]
    }
   ],
   "source": [
    "x = 1\n",
    "y = 6\n",
    "assignment = []\n",
    "\n",
    "for i in range(4):\n",
    "    \n",
    "    assignment.append(np.arange(x,y))\n",
    "#     print(a)\n",
    "    x+=5\n",
    "    y+=5\n",
    "ass2 =np.array(assignment)\n",
    "print(ass2)"
   ]
  },
  {
   "cell_type": "code",
   "execution_count": 71,
   "id": "76219fa1",
   "metadata": {},
   "outputs": [
    {
     "name": "stdout",
     "output_type": "stream",
     "text": [
      "1-> [11 12 13]\n",
      "2-> [ 9 14 19]\n",
      "3-> [[11 12 13 14 15]\n",
      " [16 17 18 19 20]]\n",
      "4-> [[ 7  8]\n",
      " [12 13]]\n"
     ]
    }
   ],
   "source": [
    "print(\"1->\",ass2[2,:3])\n",
    "print(\"2->\",ass2[1:4,3])\n",
    "print(\"3->\",ass2[2:4,:6])\n",
    "print(\"4->\",ass2[1:3,1:3])"
   ]
  },
  {
   "cell_type": "markdown",
   "id": "7c09e733",
   "metadata": {},
   "source": [
    "# ---------------------------"
   ]
  },
  {
   "cell_type": "markdown",
   "id": "2c272c89",
   "metadata": {},
   "source": [
    "# Mathematical operations on 1D arrays"
   ]
  },
  {
   "cell_type": "code",
   "execution_count": 89,
   "id": "3d86a10e",
   "metadata": {},
   "outputs": [
    {
     "name": "stdout",
     "output_type": "stream",
     "text": [
      "[1, 2, 3, 4, 5]\n",
      "[ 4  9  7  7 19]\n",
      "[13  9  8  4 16]\n"
     ]
    }
   ],
   "source": [
    "import numpy as np\n",
    "\n",
    "li = [1, 2, 3, 4, 5]\n",
    "a = np.random.randint(1, 20, 5)\n",
    "b = np.random.randint(1, 20, 5)\n",
    "\n",
    "print(li)\n",
    "print(a)\n",
    "print(b)"
   ]
  },
  {
   "cell_type": "code",
   "execution_count": 80,
   "id": "de5a9dff",
   "metadata": {},
   "outputs": [
    {
     "data": {
      "text/plain": [
       "[2, 3, 4, 5, 6]"
      ]
     },
     "execution_count": 80,
     "metadata": {},
     "output_type": "execute_result"
    }
   ],
   "source": [
    "li = [i+1 for i in li]\n",
    "li"
   ]
  },
  {
   "cell_type": "code",
   "execution_count": 90,
   "id": "78b69eac",
   "metadata": {},
   "outputs": [
    {
     "data": {
      "text/plain": [
       "array([ 5, 10,  8,  8, 20])"
      ]
     },
     "execution_count": 90,
     "metadata": {},
     "output_type": "execute_result"
    }
   ],
   "source": [
    "a+1"
   ]
  },
  {
   "cell_type": "code",
   "execution_count": 91,
   "id": "d658564a",
   "metadata": {},
   "outputs": [
    {
     "data": {
      "text/plain": [
       "array([17, 18, 15, 11, 35])"
      ]
     },
     "execution_count": 91,
     "metadata": {},
     "output_type": "execute_result"
    }
   ],
   "source": [
    "a+b"
   ]
  },
  {
   "cell_type": "code",
   "execution_count": 92,
   "id": "0b78c5ea",
   "metadata": {},
   "outputs": [
    {
     "data": {
      "text/plain": [
       "array([-9,  0, -1,  3,  3])"
      ]
     },
     "execution_count": 92,
     "metadata": {},
     "output_type": "execute_result"
    }
   ],
   "source": [
    "a-b"
   ]
  },
  {
   "cell_type": "code",
   "execution_count": 93,
   "id": "a9433435",
   "metadata": {},
   "outputs": [
    {
     "data": {
      "text/plain": [
       "array([ 52,  81,  56,  28, 304])"
      ]
     },
     "execution_count": 93,
     "metadata": {},
     "output_type": "execute_result"
    }
   ],
   "source": [
    "a*b\n"
   ]
  },
  {
   "cell_type": "code",
   "execution_count": 94,
   "id": "35f2eef4",
   "metadata": {},
   "outputs": [
    {
     "data": {
      "text/plain": [
       "array([0.30769231, 1.        , 0.875     , 1.75      , 1.1875    ])"
      ]
     },
     "execution_count": 94,
     "metadata": {},
     "output_type": "execute_result"
    }
   ],
   "source": [
    "a/b"
   ]
  },
  {
   "cell_type": "code",
   "execution_count": 95,
   "id": "165efd4f",
   "metadata": {},
   "outputs": [
    {
     "data": {
      "text/plain": [
       "array([0, 1, 0, 1, 1])"
      ]
     },
     "execution_count": 95,
     "metadata": {},
     "output_type": "execute_result"
    }
   ],
   "source": [
    "a//b"
   ]
  },
  {
   "cell_type": "code",
   "execution_count": 96,
   "id": "8fe63cde",
   "metadata": {},
   "outputs": [
    {
     "data": {
      "text/plain": [
       "array([  67108864,  387420489,    5764801,       2401, 1637415489])"
      ]
     },
     "execution_count": 96,
     "metadata": {},
     "output_type": "execute_result"
    }
   ],
   "source": [
    "a**b"
   ]
  },
  {
   "cell_type": "code",
   "execution_count": 102,
   "id": "aaf7c9c8",
   "metadata": {},
   "outputs": [
    {
     "name": "stdout",
     "output_type": "stream",
     "text": [
      "46\n",
      "9.2\n",
      "4\n",
      "0\n",
      "19\n",
      "4\n"
     ]
    }
   ],
   "source": [
    "print(a.sum())\n",
    "print(a.mean())\n",
    "print(a.min())\n",
    "print(a.argmin()) #index of min element\n",
    "print(a.max())\n",
    "print(a.argmax()) #index of max element"
   ]
  },
  {
   "cell_type": "code",
   "execution_count": 104,
   "id": "819bb4f7",
   "metadata": {},
   "outputs": [
    {
     "name": "stdout",
     "output_type": "stream",
     "text": [
      "[ 4  9  7  7 19]\n",
      "[13  9  8  4 16]\n"
     ]
    }
   ],
   "source": [
    "print(a)\n",
    "print(b)"
   ]
  },
  {
   "cell_type": "code",
   "execution_count": 105,
   "id": "66897bed",
   "metadata": {},
   "outputs": [
    {
     "data": {
      "text/plain": [
       "array([ True, False,  True, False, False])"
      ]
     },
     "execution_count": 105,
     "metadata": {},
     "output_type": "execute_result"
    }
   ],
   "source": [
    "a<b"
   ]
  },
  {
   "cell_type": "markdown",
   "id": "f55e2c08",
   "metadata": {},
   "source": [
    "### logical operations"
   ]
  },
  {
   "cell_type": "markdown",
   "id": "f9b801be",
   "metadata": {},
   "source": [
    "logical_and\n",
    "\n",
    "logical_or\n",
    "\n",
    "logical_not"
   ]
  },
  {
   "cell_type": "code",
   "execution_count": 109,
   "id": "3c28589b",
   "metadata": {},
   "outputs": [
    {
     "name": "stdout",
     "output_type": "stream",
     "text": [
      "[ True  True  True  True  True]\n",
      "[False False False False False]\n",
      "[False False False False False]\n"
     ]
    }
   ],
   "source": [
    "print(np.logical_or(a,b))\n",
    "print(np.logical_not(a))\n",
    "print(np.logical_and(a,b))"
   ]
  },
  {
   "cell_type": "markdown",
   "id": "9e4c2e25",
   "metadata": {},
   "source": [
    "# Boolean Indexing"
   ]
  },
  {
   "cell_type": "code",
   "execution_count": 129,
   "id": "7ebd344d",
   "metadata": {},
   "outputs": [
    {
     "name": "stdout",
     "output_type": "stream",
     "text": [
      "['t' 'b' 'r' 'd' 'e' 'f' 'z' 'a']\n",
      "[16 11  5  9 19  2 10  5]\n"
     ]
    }
   ],
   "source": [
    "\n",
    "a = np.array(['t', 'b', 'r', 'd', 'e', 'f', 'z', 'a'])\n",
    "b = np.random.randint(1, 20, 8)\n",
    "\n",
    "print(a)\n",
    "print(b)"
   ]
  },
  {
   "cell_type": "code",
   "execution_count": 130,
   "id": "4cb6258b",
   "metadata": {},
   "outputs": [
    {
     "data": {
      "text/plain": [
       "array([ True,  True, False, False,  True, False, False, False])"
      ]
     },
     "execution_count": 130,
     "metadata": {},
     "output_type": "execute_result"
    }
   ],
   "source": [
    "b>10"
   ]
  },
  {
   "cell_type": "code",
   "execution_count": 131,
   "id": "175d908f",
   "metadata": {},
   "outputs": [
    {
     "name": "stdout",
     "output_type": "stream",
     "text": [
      "[ True  True False False  True False False False]\n",
      "[16 11 19]\n"
     ]
    }
   ],
   "source": [
    "bool_arr = b>10\n",
    "print(bool_arr)\n",
    "new_arr = b[bool_arr]\n",
    "print(new_arr)\n",
    "\n"
   ]
  },
  {
   "cell_type": "code",
   "execution_count": 117,
   "id": "6f5a6bbf",
   "metadata": {
    "collapsed": true
   },
   "outputs": [
    {
     "name": "stdout",
     "output_type": "stream",
     "text": [
      "[18 13 16 15 19]\n"
     ]
    },
    {
     "data": {
      "text/plain": [
       "array([13, 16, 15])"
      ]
     },
     "execution_count": 117,
     "metadata": {},
     "output_type": "execute_result"
    }
   ],
   "source": [
    "new_arr = b[b>10]\n",
    "print(new_arr)\n",
    "\n",
    "new_arr = b[(b>10) & (b<18)]\n",
    "new_arr"
   ]
  },
  {
   "cell_type": "code",
   "execution_count": 140,
   "id": "94921382",
   "metadata": {},
   "outputs": [
    {
     "name": "stdout",
     "output_type": "stream",
     "text": [
      "[222  11   5   9 222   2  10   5]\n",
      "[111 111 111   9 222   2  10   5]\n"
     ]
    },
    {
     "data": {
      "text/plain": [
       "array([111, 111, 111,   9, 222,   2,  10,   5])"
      ]
     },
     "execution_count": 140,
     "metadata": {},
     "output_type": "execute_result"
    }
   ],
   "source": [
    "\n",
    "print(c)\n",
    "c = b\n",
    "c[c>15] = 222\n",
    "c[:3] = 111\n",
    "\n",
    "print(b)\n",
    "c"
   ]
  },
  {
   "cell_type": "code",
   "execution_count": 144,
   "id": "91e41985",
   "metadata": {},
   "outputs": [
    {
     "name": "stdout",
     "output_type": "stream",
     "text": [
      "(array([0, 1, 2], dtype=int64),)\n",
      "['t' 'b' 'r']\n"
     ]
    }
   ],
   "source": [
    "ind =np.where(c==111)\n",
    "print(ind)\n",
    "\n",
    "print(a[ind])"
   ]
  },
  {
   "cell_type": "code",
   "execution_count": null,
   "id": "b21045c1",
   "metadata": {},
   "outputs": [],
   "source": []
  },
  {
   "cell_type": "markdown",
   "id": "0f324d4f",
   "metadata": {},
   "source": [
    "# Assignment\n"
   ]
  },
  {
   "cell_type": "code",
   "execution_count": 145,
   "id": "c2c603e8",
   "metadata": {},
   "outputs": [
    {
     "data": {
      "text/plain": [
       "(array([0, 1, 4], dtype=int64),)"
      ]
     },
     "execution_count": 145,
     "metadata": {},
     "output_type": "execute_result"
    }
   ],
   "source": [
    "a = np.array([1,2,0,0,4,0])\n",
    "np.where(a!=0)"
   ]
  },
  {
   "cell_type": "code",
   "execution_count": 146,
   "id": "321410e0",
   "metadata": {},
   "outputs": [
    {
     "data": {
      "text/plain": [
       "(array([1, 4, 7], dtype=int64),)"
      ]
     },
     "execution_count": 146,
     "metadata": {},
     "output_type": "execute_result"
    }
   ],
   "source": [
    "a = np.array([1,3,5,7,9,11,13,15,17,19])\n",
    "np.where(a%3==0)"
   ]
  },
  {
   "cell_type": "code",
   "execution_count": 149,
   "id": "9725dc5f",
   "metadata": {},
   "outputs": [
    {
     "data": {
      "text/plain": [
       "array([-1,  2, -1,  4, -1,  6, -1,  8, -1, 10])"
      ]
     },
     "execution_count": 149,
     "metadata": {},
     "output_type": "execute_result"
    }
   ],
   "source": [
    "a = np.arange(1,11)\n",
    "a[a%2!=0]=-1\n",
    "a"
   ]
  },
  {
   "cell_type": "code",
   "execution_count": 150,
   "id": "83e15e6f",
   "metadata": {},
   "outputs": [
    {
     "data": {
      "text/plain": [
       "array([11,  0, 13,  4, 15,  6, 27,  8, 19])"
      ]
     },
     "execution_count": 150,
     "metadata": {},
     "output_type": "execute_result"
    }
   ],
   "source": [
    "a = np.array([11,2,13,4,15,6,27,8,19])\n",
    "a[a.argmin()] =0\n",
    "a"
   ]
  },
  {
   "cell_type": "code",
   "execution_count": 151,
   "id": "2634c1c2",
   "metadata": {},
   "outputs": [
    {
     "data": {
      "text/plain": [
       "array([ 1,  2, -3, -4, -5, -6, -7, -8,  9, 10])"
      ]
     },
     "execution_count": 151,
     "metadata": {},
     "output_type": "execute_result"
    }
   ],
   "source": [
    "a = np.arange(1,11)\n",
    "a[(a>2)&(a<9)]*=-1\n",
    "a"
   ]
  },
  {
   "cell_type": "code",
   "execution_count": 158,
   "id": "e5fb5854",
   "metadata": {},
   "outputs": [
    {
     "name": "stdout",
     "output_type": "stream",
     "text": [
      "[145 146 147 148 149 150 151 152 153 154 155 156 157 158 159 160 161 162\n",
      " 163 164]\n",
      "[ 1  2  3  4  5  6  7  8  9 10 11 12 13 14 15 16 17 18 19 20]\n"
     ]
    },
    {
     "data": {
      "text/plain": [
       "array([12, 13, 14, 15, 16, 17, 18, 19, 20])"
      ]
     },
     "execution_count": 158,
     "metadata": {},
     "output_type": "execute_result"
    }
   ],
   "source": [
    "b = np.arange(1,21)\n",
    "a= np.arange(145,165)\n",
    "print(a)\n",
    "print(b)\n",
    "\n",
    "b[np.where(a>155)]"
   ]
  },
  {
   "cell_type": "markdown",
   "id": "bef97f30",
   "metadata": {},
   "source": [
    "# ------------------------------------------------------------"
   ]
  },
  {
   "cell_type": "markdown",
   "id": "9d5a187b",
   "metadata": {},
   "source": [
    "# Boolean Indexing in 2d arrays"
   ]
  },
  {
   "cell_type": "code",
   "execution_count": 3,
   "id": "e62deb2a",
   "metadata": {},
   "outputs": [
    {
     "name": "stdout",
     "output_type": "stream",
     "text": [
      "[[24 23 28 19  1 28]\n",
      " [20  5 10 20 19 24]\n",
      " [18 22 14  9 12 26]\n",
      " [18 12 17 29 22 29]\n",
      " [ 8 28 18 11 26  5]]\n"
     ]
    }
   ],
   "source": [
    "a = np.random.randint(1, 30, (5, 6))\n",
    "print(a)"
   ]
  },
  {
   "cell_type": "code",
   "execution_count": 7,
   "id": "1b8e22fb",
   "metadata": {},
   "outputs": [
    {
     "name": "stdout",
     "output_type": "stream",
     "text": [
      "[[ True  True  True False False  True]\n",
      " [False False False False False  True]\n",
      " [False  True False False False  True]\n",
      " [False False False  True  True  True]\n",
      " [False  True False False  True False]]\n",
      "-------\n",
      "[24 23 28 28 24 22 26 29 22 29 28 26]\n"
     ]
    }
   ],
   "source": [
    "print(a>20)\n",
    "print(\"-------\")\n",
    "print(a[a>20])"
   ]
  },
  {
   "cell_type": "code",
   "execution_count": 9,
   "id": "8cbaaae6",
   "metadata": {},
   "outputs": [
    {
     "name": "stdout",
     "output_type": "stream",
     "text": [
      "[[100 100 100  19   1 100]\n",
      " [ 20   5  10  20  19 100]\n",
      " [ 18 100  14   9  12 100]\n",
      " [ 18  12  17 100 100 100]\n",
      " [  8 100  18  11 100   5]]\n"
     ]
    }
   ],
   "source": [
    "b=a \n",
    "b[a>20]=100\n",
    "print(b)"
   ]
  },
  {
   "cell_type": "code",
   "execution_count": 13,
   "id": "f37a003c",
   "metadata": {},
   "outputs": [
    {
     "name": "stdout",
     "output_type": "stream",
     "text": [
      "[False False False  True False]\n"
     ]
    }
   ],
   "source": [
    "#update value of particular column\n",
    "\n",
    "bool_arr = b[:,3]==100\n",
    "print(bool_arr)"
   ]
  },
  {
   "cell_type": "code",
   "execution_count": 16,
   "id": "9d6ac081",
   "metadata": {},
   "outputs": [
    {
     "name": "stdout",
     "output_type": "stream",
     "text": [
      "[[    100     100     100      19       1     100]\n",
      " [     20       5      10      20      19     100]\n",
      " [     18     100      14       9      12     100]\n",
      " [     18      12      17 1000000     100     100]\n",
      " [      8     100      18      11     100       5]]\n"
     ]
    }
   ],
   "source": [
    "b[bool_arr,3] = 1000000\n",
    "print(b)"
   ]
  },
  {
   "cell_type": "markdown",
   "id": "b2c95e02",
   "metadata": {},
   "source": [
    "### assignment\n"
   ]
  },
  {
   "cell_type": "code",
   "execution_count": 18,
   "id": "6e375843",
   "metadata": {},
   "outputs": [
    {
     "name": "stdout",
     "output_type": "stream",
     "text": [
      "[[21 20 19 18 17]\n",
      " [16 15 14 13 12]\n",
      " [11 10  9  8  7]\n",
      " [ 6  5  4  3  2]]\n"
     ]
    }
   ],
   "source": [
    "arr = np.array([[21, 20, 19, 18, 17],\n",
    "                [16, 15, 14, 13, 12],\n",
    "                [11, 10, 9, 8, 7],\n",
    "                [6, 5, 4, 3, 2]])\n",
    "print(arr)"
   ]
  },
  {
   "cell_type": "code",
   "execution_count": 19,
   "id": "395a6a91",
   "metadata": {},
   "outputs": [
    {
     "data": {
      "text/plain": [
       "array([3, 2, 1, 0], dtype=int64)"
      ]
     },
     "execution_count": 19,
     "metadata": {},
     "output_type": "execute_result"
    }
   ],
   "source": [
    "sorted_indices = arr[:,1].argsort()\n",
    "sorted_indices"
   ]
  },
  {
   "cell_type": "code",
   "execution_count": 27,
   "id": "c24b1cd8",
   "metadata": {},
   "outputs": [
    {
     "data": {
      "text/plain": [
       "array([[21, 20, 19, 18, 17],\n",
       "       [16, 15, 14, 13, 12],\n",
       "       [11, 10,  9,  8,  7],\n",
       "       [ 6,  5,  4,  3,  2]])"
      ]
     },
     "execution_count": 27,
     "metadata": {},
     "output_type": "execute_result"
    }
   ],
   "source": [
    "arr[:,1]=arr[sorted_indices, 1]\n",
    "arr"
   ]
  },
  {
   "cell_type": "markdown",
   "id": "a72dacb7",
   "metadata": {},
   "source": [
    "# ------\n"
   ]
  },
  {
   "cell_type": "markdown",
   "id": "851e7f89",
   "metadata": {},
   "source": [
    "# Broadcasting"
   ]
  },
  {
   "cell_type": "code",
   "execution_count": 1,
   "id": "6a5c79ab",
   "metadata": {},
   "outputs": [
    {
     "name": "stdout",
     "output_type": "stream",
     "text": [
      "[[2 6 6]\n",
      " [7 1 9]\n",
      " [6 1 6]]\n",
      "[[9 6 6]\n",
      " [5 8 8]\n",
      " [9 3 1]]\n"
     ]
    }
   ],
   "source": [
    "import numpy as np\n",
    "\n",
    "# (3x3)-(3x3)\n",
    "\n",
    "x=np.random.randint(1,10,(3,3))\n",
    "y=np.random.randint(1,10,(3,3))\n",
    "print(x)\n",
    "print(y)"
   ]
  },
  {
   "cell_type": "code",
   "execution_count": 2,
   "id": "4c53fbed",
   "metadata": {},
   "outputs": [
    {
     "data": {
      "text/plain": [
       "array([[-7,  0,  0],\n",
       "       [ 2, -7,  1],\n",
       "       [-3, -2,  5]])"
      ]
     },
     "execution_count": 2,
     "metadata": {},
     "output_type": "execute_result"
    }
   ],
   "source": [
    "x-y"
   ]
  },
  {
   "cell_type": "code",
   "execution_count": 3,
   "id": "323fa3be",
   "metadata": {},
   "outputs": [
    {
     "name": "stdout",
     "output_type": "stream",
     "text": [
      "[[7 7 2]\n",
      " [8 2 2]\n",
      " [2 8 8]]\n",
      "[5 5 6]\n"
     ]
    }
   ],
   "source": [
    "# (3x3)-(1x3)\n",
    "x = np.random.randint(1,10,(3,3))\n",
    "y = np.random.randint(1,10,3)\n",
    "print(x)\n",
    "print(y)"
   ]
  },
  {
   "cell_type": "code",
   "execution_count": 4,
   "id": "33425152",
   "metadata": {},
   "outputs": [
    {
     "data": {
      "text/plain": [
       "array([[ 2,  2, -4],\n",
       "       [ 3, -3, -4],\n",
       "       [-3,  3,  2]])"
      ]
     },
     "execution_count": 4,
     "metadata": {},
     "output_type": "execute_result"
    }
   ],
   "source": [
    "x-y\n"
   ]
  },
  {
   "cell_type": "code",
   "execution_count": 5,
   "id": "678875b6",
   "metadata": {},
   "outputs": [
    {
     "name": "stdout",
     "output_type": "stream",
     "text": [
      "[[9 4]\n",
      " [2 3]\n",
      " [5 2]]\n",
      "[[6 5 2]\n",
      " [8 5 5]]\n"
     ]
    }
   ],
   "source": [
    "# (3x2)-(2x3)\n",
    "x = np.random.randint(1,10,(3,2))\n",
    "y = np.random.randint(1,10,(2,3))\n",
    "print(x)\n",
    "print(y)"
   ]
  },
  {
   "cell_type": "code",
   "execution_count": 8,
   "id": "da1f4019",
   "metadata": {},
   "outputs": [
    {
     "name": "stdout",
     "output_type": "stream",
     "text": [
      "[[6 8]\n",
      " [5 5]\n",
      " [2 5]]\n"
     ]
    },
    {
     "data": {
      "text/plain": [
       "array([[ 3, -4],\n",
       "       [-3, -2],\n",
       "       [ 3, -3]])"
      ]
     },
     "execution_count": 8,
     "metadata": {},
     "output_type": "execute_result"
    }
   ],
   "source": [
    "y=np.transpose(y)\n",
    "print(y)\n",
    "x-y"
   ]
  },
  {
   "cell_type": "code",
   "execution_count": null,
   "id": "26ed3715",
   "metadata": {},
   "outputs": [],
   "source": [
    "np.resize()\n",
    "np.reshape()"
   ]
  }
 ],
 "metadata": {
  "kernelspec": {
   "display_name": "Python 3 (ipykernel)",
   "language": "python",
   "name": "python3"
  },
  "language_info": {
   "codemirror_mode": {
    "name": "ipython",
    "version": 3
   },
   "file_extension": ".py",
   "mimetype": "text/x-python",
   "name": "python",
   "nbconvert_exporter": "python",
   "pygments_lexer": "ipython3",
   "version": "3.10.9"
  }
 },
 "nbformat": 4,
 "nbformat_minor": 5
}
