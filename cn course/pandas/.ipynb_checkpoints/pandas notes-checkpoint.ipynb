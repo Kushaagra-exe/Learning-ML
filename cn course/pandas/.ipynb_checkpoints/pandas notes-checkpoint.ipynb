{
 "cells": [
  {
   "cell_type": "markdown",
   "id": "ff6344f8",
   "metadata": {},
   "source": [
    "### Reading"
   ]
  },
  {
   "cell_type": "markdown",
   "id": "78ce1f28",
   "metadata": {},
   "source": [
    "pd.read_csv('file')"
   ]
  },
  {
   "cell_type": "markdown",
   "id": "e82842e5",
   "metadata": {},
   "source": [
    "### Creating a DF\n",
    "    labels = ['student_id', 'age']\n",
    "    df = pd.DataFrame(student_data,columns = labels)"
   ]
  },
  {
   "cell_type": "markdown",
   "id": "2c31ebad",
   "metadata": {},
   "source": [
    "### Make a copy of DF"
   ]
  },
  {
   "cell_type": "markdown",
   "id": "9902af28",
   "metadata": {},
   "source": [
    "var2 = var1.copy()"
   ]
  },
  {
   "cell_type": "markdown",
   "id": "518be8da",
   "metadata": {},
   "source": [
    "### CHANGE DATATYPE   \n",
    "    "
   ]
  },
  {
   "cell_type": "markdown",
   "id": "c868ad65",
   "metadata": {},
   "source": [
    "### Viewing the DF"
   ]
  },
  {
   "cell_type": "markdown",
   "id": "34688d36",
   "metadata": {},
   "source": [
    "    df.head()\n",
    "    df.tail()\n",
    "    df.describe()"
   ]
  },
  {
   "cell_type": "markdown",
   "id": "fadf3942",
   "metadata": {},
   "source": [
    "### Reaname the columns\n"
   ]
  },
  {
   "cell_type": "markdown",
   "id": "0434ea3d",
   "metadata": {},
   "source": [
    "df.columns = [name1, name2,...,name]\n",
    "\n",
    "    students.rename(columns={\n",
    "            \"id\": \"student_id\",\n",
    "            \"first\": \"first_name\",\n",
    "            \"last\": \"last_name\",\n",
    "            \"age\": \"age_in_years\"\n",
    "        }, inplace=True)"
   ]
  },
  {
   "cell_type": "markdown",
   "id": "832a1bee",
   "metadata": {},
   "source": [
    "### DF Properties"
   ]
  },
  {
   "cell_type": "markdown",
   "id": "eaecaa14",
   "metadata": {},
   "source": [
    "    df.shape -> gives [number of rows, number of columns]\n",
    "    df.dtype -> gives dtype of all cols\n",
    "    df.index -> RangeIndex(start=1, stop=149, step=1)"
   ]
  },
  {
   "cell_type": "markdown",
   "id": "ed8fec36",
   "metadata": {},
   "source": [
    "### Viewing Columns"
   ]
  },
  {
   "cell_type": "markdown",
   "id": "644eafca",
   "metadata": {},
   "source": [
    "    DF.COL_NAME\n",
    "    DF['COL_NAME']"
   ]
  },
  {
   "cell_type": "markdown",
   "id": "8a4fec31",
   "metadata": {},
   "source": [
    "### NULL ENTRIES\n",
    "        DF.isnull()\n",
    "        DF.isnull().sum()"
   ]
  },
  {
   "cell_type": "markdown",
   "id": "81700311",
   "metadata": {},
   "source": [
    "### SLICING\n",
    "    df.iloc[1:4,2:4] iloc -> index\n",
    "    df.loc[2]        loc -> label\n",
    "    df.index[0], df.index[5]\n",
    "    \n",
    "###### select the name and age of the student with student_id = 101.\n",
    "    students[students['student_id'] == 101][['name', 'age']]\n",
    "    students.loc[students[\"student_id\"] == 101, [\"name\", \"age\"]]\n",
    "    \n",
    "###### Sorting based on cols\n",
    "    .sort_values(['weight'],ascending=False)\n"
   ]
  },
  {
   "cell_type": "markdown",
   "id": "726ad477",
   "metadata": {},
   "source": [
    "### DELETING\n",
    "\n",
    "#### ROWS\n",
    "     df.drop(0) -> DELETE ROW 0(NEW DF)\n",
    "    df.drop(0, inplace = True) -> IN THAT DF\n",
    "    df.drop(df.index[[0,1]], inplace = True) -> DEL INDEX\n",
    "    \n",
    "#### COLUMNS\n",
    "    df.drop('sl', axis=1)\n",
    "    del df['sl']\n",
    "\n",
    "    "
   ]
  },
  {
   "cell_type": "markdown",
   "id": "4eca0656",
   "metadata": {},
   "source": [
    "### UPDATING \n",
    "    df.reset_index()\n",
    "    df.reset_index()  # old index col will be added\n",
    "    df.loc[0]= [1,2,3,4,'Iris-setosa']\n",
    "    df.loc[149]= [1,2,3,4,'Iris-setosa']\n",
    "    \n",
    "##### remove duplicates based on email\n",
    "    customers.drop_duplicates(subset = 'email', keep='first')\n",
    "   "
   ]
  },
  {
   "cell_type": "markdown",
   "id": "e7151f6e",
   "metadata": {},
   "source": [
    "   ### ADDING NEW COL\n",
    "       df[\"diff_pl_pw\"] = df[\"pl\"] - df[\"pw\"]\n",
    "       \n",
    "       employees[\"bonus\"]=2*employees[\"salary\"]\n",
    "        return employees"
   ]
  },
  {
   "cell_type": "markdown",
   "id": "7643286b",
   "metadata": {},
   "source": [
    "### FETCHING\n",
    "\n",
    "    types = df['variety'].unique()\n",
    "    df[df.COLUMN>5]\n",
    "    df[df.flower_type == 'Iris-setosa']\n",
    "    df[df.flower_type == 'Iris-setosa'].describe()"
   ]
  },
  {
   "cell_type": "markdown",
   "id": "3ff9bb26",
   "metadata": {},
   "source": [
    "### COMPLEX\n",
    "\n",
    "    # df[df['variety']=='Virginica' and df['petal.length']>1.5]\n",
    "    df[df['variety']=='Virginica'].loc[df['petal.length']>1.5]\n",
    "    "
   ]
  },
  {
   "cell_type": "markdown",
   "id": "7a8a36ef",
   "metadata": {},
   "source": [
    "### NAN ENTRIES\n",
    "\n",
    "    import numpy as np\n",
    "    df.iloc[2:4,1:3] = np.nan\n",
    "    \n",
    "#### 1\n",
    "    df.dropna(inplace=True) # this removes the rows having nan values (requires inplace)\n",
    "    df.reset_index(drop = True, inplace = True)\n",
    "    students.dropna(subset=['name']) removes None values in name col\n",
    "#### 2 filling the nan values -> mean of col | filling the nan values -> most occuring of col\n",
    "\n",
    "    df['sepal.width'].fillna(df['sepal.width'].mean(), inplace=True)\n",
    "    df['petal.length'].fillna(df['petal.length'].mean(), inplace=True)"
   ]
  },
  {
   "cell_type": "markdown",
   "id": "83b35b1e",
   "metadata": {},
   "source": [
    "### Change table shape\n",
    "\n",
    "    df.pivot(index='month', columns='city', values='temperature')\n",
    "    \n",
    "    from wide to long\n",
    "    dp.melt("
   ]
  },
  {
   "cell_type": "code",
   "execution_count": null,
   "id": "84328b09",
   "metadata": {},
   "outputs": [],
   "source": []
  }
 ],
 "metadata": {
  "kernelspec": {
   "display_name": "Python 3 (ipykernel)",
   "language": "python",
   "name": "python3"
  },
  "language_info": {
   "codemirror_mode": {
    "name": "ipython",
    "version": 3
   },
   "file_extension": ".py",
   "mimetype": "text/x-python",
   "name": "python",
   "nbconvert_exporter": "python",
   "pygments_lexer": "ipython3",
   "version": "3.10.9"
  }
 },
 "nbformat": 4,
 "nbformat_minor": 5
}
