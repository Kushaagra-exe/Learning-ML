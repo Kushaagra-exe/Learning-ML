{
 "cells": [
  {
   "cell_type": "code",
   "execution_count": 1,
   "id": "e8d69898",
   "metadata": {},
   "outputs": [],
   "source": [
    "from nltk.stem import WordNetLemmatizer"
   ]
  },
  {
   "cell_type": "code",
   "execution_count": 5,
   "id": "73f2e92a",
   "metadata": {},
   "outputs": [
    {
     "name": "stderr",
     "output_type": "stream",
     "text": [
      "[nltk_data] Downloading package wordnet to C:\\Users\\Kushaagra\n",
      "[nltk_data]     Mehta\\AppData\\Roaming\\nltk_data...\n"
     ]
    },
    {
     "data": {
      "text/plain": [
       "True"
      ]
     },
     "execution_count": 5,
     "metadata": {},
     "output_type": "execute_result"
    }
   ],
   "source": [
    "import nltk\n",
    "nltk.download('wordnet')"
   ]
  },
  {
   "cell_type": "code",
   "execution_count": 9,
   "id": "4daaa175",
   "metadata": {},
   "outputs": [],
   "source": [
    "words =[\"Appear\", \"Appeared\", \"Appeared\",\"Arrive\", \"Arrived\", \"Arrived\",\"Ask\", \"Asked\", \"Asked\",\"Behave\", \"Behaved\", \"Behaved\"]"
   ]
  },
  {
   "cell_type": "code",
   "execution_count": 2,
   "id": "8c1dbaf2",
   "metadata": {},
   "outputs": [],
   "source": [
    "lemmatizer = WordNetLemmatizer()\n"
   ]
  },
  {
   "cell_type": "code",
   "execution_count": 8,
   "id": "4ff169ea",
   "metadata": {},
   "outputs": [
    {
     "data": {
      "text/plain": [
       "('going', 'go')"
      ]
     },
     "execution_count": 8,
     "metadata": {},
     "output_type": "execute_result"
    }
   ],
   "source": [
    "'''\n",
    "POS\n",
    "    Noun - n\n",
    "    verb - v\n",
    "    adjective - a\n",
    "    adverb - r\n",
    "'''\n",
    "\n",
    "lemmatizer.lemmatize(\"going\"),lemmatizer.lemmatize(\"going\", pos='v')"
   ]
  },
  {
   "cell_type": "code",
   "execution_count": 10,
   "id": "84a2c630",
   "metadata": {},
   "outputs": [
    {
     "name": "stdout",
     "output_type": "stream",
     "text": [
      "Appear -->Appear\n",
      "Appeared -->Appeared\n",
      "Appeared -->Appeared\n",
      "Arrive -->Arrive\n",
      "Arrived -->Arrived\n",
      "Arrived -->Arrived\n",
      "Ask -->Ask\n",
      "Asked -->Asked\n",
      "Asked -->Asked\n",
      "Behave -->Behave\n",
      "Behaved -->Behaved\n",
      "Behaved -->Behaved\n"
     ]
    }
   ],
   "source": [
    "for word in words:\n",
    "    print(word,\"-->\"+lemmatizer.lemmatize(word))"
   ]
  },
  {
   "cell_type": "code",
   "execution_count": 26,
   "id": "06af21fe",
   "metadata": {},
   "outputs": [
    {
     "name": "stdout",
     "output_type": "stream",
     "text": [
      "Appear -->Appear\n",
      "Appeared -->Appeared\n",
      "Appeared -->Appeared\n",
      "Arrive -->Arrive\n",
      "Arrived -->Arrived\n",
      "Arrived -->Arrived\n",
      "Ask -->Ask\n",
      "Asked -->Asked\n",
      "Asked -->Asked\n",
      "Behave -->Behave\n",
      "Behaved -->Behaved\n",
      "Behaved -->Behaved\n"
     ]
    }
   ],
   "source": [
    "for word in words:\n",
    "    print(word,\"-->\"+lemmatizer.lemmatize(word, pos='v'))"
   ]
  },
  {
   "cell_type": "code",
   "execution_count": null,
   "id": "1f304907",
   "metadata": {},
   "outputs": [],
   "source": []
  },
  {
   "cell_type": "code",
   "execution_count": null,
   "id": "99aab0e4",
   "metadata": {},
   "outputs": [],
   "source": []
  }
 ],
 "metadata": {
  "kernelspec": {
   "display_name": "Python 3 (ipykernel)",
   "language": "python",
   "name": "python3"
  },
  "language_info": {
   "codemirror_mode": {
    "name": "ipython",
    "version": 3
   },
   "file_extension": ".py",
   "mimetype": "text/x-python",
   "name": "python",
   "nbconvert_exporter": "python",
   "pygments_lexer": "ipython3",
   "version": "3.10.9"
  }
 },
 "nbformat": 4,
 "nbformat_minor": 5
}
