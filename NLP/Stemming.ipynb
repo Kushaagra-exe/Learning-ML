{
 "cells": [
  {
   "cell_type": "code",
   "execution_count": 1,
   "id": "42ba1c32",
   "metadata": {},
   "outputs": [],
   "source": [
    "from nltk.stem import PorterStemmer"
   ]
  },
  {
   "cell_type": "markdown",
   "id": "09f47cb8",
   "metadata": {},
   "source": [
    "### Porter Stemmer"
   ]
  },
  {
   "cell_type": "code",
   "execution_count": 3,
   "id": "5f510422",
   "metadata": {},
   "outputs": [],
   "source": [
    "words =[\"Appear\", \"Appeared\", \"Appeared\",\"Arrive\", \"Arrived\", \"Arrived\",\"Ask\", \"Asked\", \"Asked\",\"Behave\", \"Behaved\", \"Behaved\"]"
   ]
  },
  {
   "cell_type": "code",
   "execution_count": 2,
   "id": "a6df8204",
   "metadata": {},
   "outputs": [],
   "source": [
    "stemming = PorterStemmer()"
   ]
  },
  {
   "cell_type": "code",
   "execution_count": 4,
   "id": "1e01038c",
   "metadata": {},
   "outputs": [
    {
     "name": "stdout",
     "output_type": "stream",
     "text": [
      "Appear -->appear\n",
      "Appeared -->appear\n",
      "Appeared -->appear\n",
      "Arrive -->arriv\n",
      "Arrived -->arriv\n",
      "Arrived -->arriv\n",
      "Ask -->ask\n",
      "Asked -->ask\n",
      "Asked -->ask\n",
      "Behave -->behav\n",
      "Behaved -->behav\n",
      "Behaved -->behav\n"
     ]
    }
   ],
   "source": [
    "for word in words:\n",
    "    print(word,\"-->\"+stemming.stem(word))"
   ]
  },
  {
   "cell_type": "markdown",
   "id": "8ce083a0",
   "metadata": {},
   "source": [
    "### Regex Stemmer - RegexpStemmer"
   ]
  },
  {
   "cell_type": "code",
   "execution_count": 5,
   "id": "4e270a50",
   "metadata": {},
   "outputs": [],
   "source": [
    "from nltk.stem import RegexpStemmer"
   ]
  },
  {
   "cell_type": "code",
   "execution_count": 11,
   "id": "7c627eb5",
   "metadata": {},
   "outputs": [],
   "source": [
    "reg_stemmer = RegexpStemmer('ing$|s$|ed$|able$', min=4)"
   ]
  },
  {
   "cell_type": "code",
   "execution_count": 12,
   "id": "a0fba2ce",
   "metadata": {},
   "outputs": [
    {
     "name": "stdout",
     "output_type": "stream",
     "text": [
      "Appear-->Appear\n",
      "Appeared-->Appear\n",
      "Appeared-->Appear\n",
      "Arrive-->Arrive\n",
      "Arrived-->Arriv\n",
      "Arrived-->Arriv\n",
      "Ask-->Ask\n",
      "Asked-->Ask\n",
      "Asked-->Ask\n",
      "Behave-->Behave\n",
      "Behaved-->Behav\n",
      "Behaved-->Behav\n"
     ]
    }
   ],
   "source": [
    "for word in words:\n",
    "    print(word+\"-->\"+reg_stemmer.stem(word))"
   ]
  },
  {
   "cell_type": "markdown",
   "id": "56dac9ce",
   "metadata": {},
   "source": [
    "### Snowball Stemmer "
   ]
  },
  {
   "cell_type": "code",
   "execution_count": 13,
   "id": "d9fdf842",
   "metadata": {},
   "outputs": [],
   "source": [
    "from nltk.stem import SnowballStemmer"
   ]
  },
  {
   "cell_type": "code",
   "execution_count": 14,
   "id": "67dc3019",
   "metadata": {},
   "outputs": [],
   "source": [
    "snow_stemmer = SnowballStemmer('english')"
   ]
  },
  {
   "cell_type": "code",
   "execution_count": 15,
   "id": "0a8c6865",
   "metadata": {},
   "outputs": [
    {
     "name": "stdout",
     "output_type": "stream",
     "text": [
      "Appear-->appear\n",
      "Appeared-->appear\n",
      "Appeared-->appear\n",
      "Arrive-->arriv\n",
      "Arrived-->arriv\n",
      "Arrived-->arriv\n",
      "Ask-->ask\n",
      "Asked-->ask\n",
      "Asked-->ask\n",
      "Behave-->behav\n",
      "Behaved-->behav\n",
      "Behaved-->behav\n"
     ]
    }
   ],
   "source": [
    "for word in words:\n",
    "    print(word+\"-->\"+snow_stemmer.stem(word))"
   ]
  },
  {
   "cell_type": "code",
   "execution_count": null,
   "id": "b8e9268d",
   "metadata": {},
   "outputs": [],
   "source": []
  }
 ],
 "metadata": {
  "kernelspec": {
   "display_name": "Python 3 (ipykernel)",
   "language": "python",
   "name": "python3"
  },
  "language_info": {
   "codemirror_mode": {
    "name": "ipython",
    "version": 3
   },
   "file_extension": ".py",
   "mimetype": "text/x-python",
   "name": "python",
   "nbconvert_exporter": "python",
   "pygments_lexer": "ipython3",
   "version": "3.10.9"
  }
 },
 "nbformat": 4,
 "nbformat_minor": 5
}
